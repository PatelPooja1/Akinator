{
 "cells": [
  {
   "cell_type": "code",
   "execution_count": 1,
   "id": "3797eb38",
   "metadata": {},
   "outputs": [
    {
     "name": "stdout",
     "output_type": "stream",
     "text": [
      "Is your character wild animal(y,n):-y\n",
      "Is your character orange in color(y,n):-y\n",
      "Is your character white in color(y,n):-n\n",
      "Is your character King of animals(y,n):-y\n",
      "Does your character have strips(y,n):-n\n",
      "Does your character have a tail(y,n):-y\n",
      "your character is Lion\n"
     ]
    }
   ],
   "source": [
    "database = [\n",
    "    {\"name\":\"Lion\", \"wildanimal\":True, \"orange\":True, \"white\":False , \"King\":True, \"strips\":False, \"tail\":True},\n",
    "\n",
    "    {\"name\": \"Tiger\", \"wildanimal\": True, \"orange\": True, \"white\": False, \"King\":False, \"strips\": True,\"tail\": True},\n",
    "\n",
    "    {\"name\": \"Rabbit\", \"wildanimal\": True, \"orange\": False, \"white\": True, \"King\": False, \"strips\": False,\"tail\": True},\n",
    "\n",
    "    {\"name\": \"Cat\", \"wildanimal\": False, \"orange\": False, \"white\": True, \"King\": False, \"strips\": True,\"tail\": True},\n",
    "\n",
    "    {\"name\": \"Cow\", \"wildanimal\": False, \"orange\": False, \"white\": True, \"King\": False, \"strips\": False,\"tail\": True},\n",
    "\n",
    "    {\"name\": \"Elephant\", \"wildanimal\": True, \"orange\": False, \"white\": False, \"King\": False, \"strips\": False,\"tail\": True},\n",
    "\n",
    "    {\"name\": \"Dog\", \"wildanimal\": False, \"orange\": False, \"white\": False, \"King\": False, \"strips\": True,\"tail\": True},\n",
    "]\n",
    "\n",
    "def take_chance(answer, property):\n",
    "    if answer == \"y\":\n",
    "        ans = True\n",
    "    else:\n",
    "        ans = False\n",
    "\n",
    "    to_remove=[]\n",
    "    for d in database:\n",
    "        if d[property] != ans:\n",
    "            to_remove.append(d)\n",
    "\n",
    "    for i in to_remove:\n",
    "        database.remove(i)\n",
    "\n",
    "\n",
    "def final():\n",
    "    if len(database) == 1:\n",
    "        print(\"your character is \"+database[0][\"name\"])\n",
    "        quit()\n",
    "\n",
    "\n",
    "ans = input(\"Is your character wild animal(y,n):-\")\n",
    "take_chance(ans, \"wildanimal\")\n",
    "\n",
    "\n",
    "ans = input(\"Is your character orange in color(y,n):-\")\n",
    "take_chance(ans, \"orange\")\n",
    "\n",
    "ans = input(\"Is your character white in color(y,n):-\")\n",
    "take_chance(ans,\"white\")\n",
    "\n",
    "ans = input(\"Is your character King of animals(y,n):-\")\n",
    "take_chance(ans,\"King\")\n",
    "\n",
    "ans = input(\"Does your character have strips(y,n):-\")\n",
    "take_chance(ans,\"strips\")\n",
    "\n",
    "ans = input(\"Does your character have a tail(y,n):-\")\n",
    "take_chance(ans,\"tail\")\n",
    "\n",
    "final()"
   ]
  }
 ],
 "metadata": {
  "kernelspec": {
   "display_name": "Python 3 (ipykernel)",
   "language": "python",
   "name": "python3"
  },
  "language_info": {
   "codemirror_mode": {
    "name": "ipython",
    "version": 3
   },
   "file_extension": ".py",
   "mimetype": "text/x-python",
   "name": "python",
   "nbconvert_exporter": "python",
   "pygments_lexer": "ipython3",
   "version": "3.11.2"
  }
 },
 "nbformat": 4,
 "nbformat_minor": 5
}
